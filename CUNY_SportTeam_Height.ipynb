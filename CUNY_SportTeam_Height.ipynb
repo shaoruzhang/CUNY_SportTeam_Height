{
  "nbformat": 4,
  "nbformat_minor": 0,
  "metadata": {
    "colab": {
      "name": "CUNY_SportTeam_Height.ipynb",
      "provenance": []
    },
    "kernelspec": {
      "name": "python3",
      "display_name": "Python 3"
    },
    "language_info": {
      "name": "python"
    }
  },
  "cells": [
    {
      "cell_type": "code",
      "metadata": {
        "id": "NHv5JhHWjmtw"
      },
      "source": [
        "# Goal: If varsity (college) swimmers are (on average) taller than their volleyball counterparts\n",
        "# Data: Baruch's, Brooklyn's, York's, and John Jay's volleyball and swimming teams\n",
        "import requests\n",
        "from bs4 import BeautifulSoup\n",
        "import pandas as pd\n",
        "\n"
      ],
      "execution_count": null,
      "outputs": []
    },
    {
      "cell_type": "code",
      "metadata": {
        "id": "akqYM9vjCKhv"
      },
      "source": [
        "#Lists of all urls in each category\n",
        "MenVolleyball_url=[\"https://www.brooklyncollegeathletics.com/sports/mens-volleyball/roster/2019\", \"https://athletics.baruch.cuny.edu/sports/mens-volleyball/roster\", \"https://yorkathletics.com/sports/mens-volleyball/roster\"]\n",
        "MenSwimming_url=[\"https://www.brooklyncollegeathletics.com/sports/mens-swimming-and-diving/roster\",\"https://athletics.baruch.cuny.edu/sports/mens-swimming-and-diving/roster\", \"https://yorkathletics.com/sports/mens-swimming-and-diving/roster\"]\n",
        "WomenVolleyball_url=[\"https://www.brooklyncollegeathletics.com/sports/womens-volleyball/roster/2019\", \"https://athletics.baruch.cuny.edu/sports/womens-volleyball/roster\", \"https://johnjayathletics.com/sports/womens-volleyball/roster\"]\n",
        "WomenSwimming_url=[\"https://www.brooklyncollegeathletics.com/sports/womens-swimming-and-diving/roster\", \"https://athletics.baruch.cuny.edu/sports/womens-swimming-and-diving/roster\", \"https://queensknights.com/sports/womens-swimming-and-diving/roster\" ]"
      ],
      "execution_count": null,
      "outputs": []
    },
    {
      "cell_type": "code",
      "metadata": {
        "id": "htj13eZRgAg2"
      },
      "source": [
        "#Height function\n",
        "def height (url):\n",
        "  #Store content retrieved from the url into page, and use beautifulsoup package to parse HTML\n",
        "  page = requests.get(url, verify=True)\n",
        "  soup = BeautifulSoup(page.content, 'html.parser')\n",
        "  #Find all span tags text with class of sidearm roster player height\n",
        "  heightlist= soup.find_all('span', class_= \"sidearm-roster-player-height\") \n",
        "      \n",
        "  list=[]\n",
        "  #The loop will run and find height of all players and append them into a list\n",
        "  for height in (heightlist):\n",
        "    list.append(height.get_text())\n",
        "    #Use list comprehension to split the list and retreive the first element in the list, which is the height in feet\n",
        "    ft_list= [(num.split(\"'\")[0]) for num in list]\n",
        "    #Use list comprehension to split the list and retreive the second element in the list, which is the height in inches\n",
        "    inch_list= [(num.split(\"'\")[1]) for num in list]\n",
        "    #Then, use list comprehension so there is just numbers in the list, no special charc.\n",
        "    inch_list= [char.replace('\"', '') for char in inch_list]\n",
        "    #Use loop: for each number in the list, convert them to an int and multiply them to convert to cm \n",
        "    for num in range(0, len(ft_list)):\n",
        "      ft_list[num]= int(ft_list[num])*30.48\n",
        "      inch_list[num]= int(inch_list[num])*2.54\n",
        "\n",
        "  #Add two cm list (ft_list & inch_list) together\n",
        "  total_height= [ft_list+inch_list for ft_list, inch_list in zip (ft_list, inch_list)]\n",
        "  #divide the list into halves because for some reason the soup.find_all returned all the heights twice, we only want first half\n",
        "  total_height= total_height[:len(total_height)//2]\n",
        "  return total_height\n"
      ],
      "execution_count": null,
      "outputs": []
    },
    {
      "cell_type": "code",
      "metadata": {
        "id": "ST8SvdsenHw1"
      },
      "source": [
        "#Name function\n",
        "def name (url):\n",
        "  #Store content retrieved from the url into page, and use beautifulsoup package to parse HTML\n",
        "  page = requests.get(url, verify=True)\n",
        "  soup = BeautifulSoup(page.content, 'html.parser')\n",
        "  #Find all span tags text with class of sidearm roster player first name, then last name \n",
        "  fname= soup.find_all('span', class_=\"sidearm-roster-player-first-name\")\n",
        "  lname= soup.find_all('span', class_=\"sidearm-roster-player-last-name\")\n",
        "      \n",
        "\n",
        "  f_list=[] \n",
        "  fname_list=[]\n",
        "  lname_list=[]\n",
        "  #Two for loop to find all names of all players and append them into a list\n",
        "  for name in fname:\n",
        "    f_list.append(name.get_text())\n",
        "  for name in lname:\n",
        "    lname_list.append(name.get_text())\n",
        "  #Another for loop for first name because some of the first names had an empty space at the end, while others don't. \n",
        "  #This messes up with adding it in full_name later on \n",
        "  for names in f_list:\n",
        "    if names[-1]!= \" \":\n",
        "      fname_list.append(names+\" \")\n",
        "    else:\n",
        "      fname_list.append(names)\n",
        "\n",
        "  #Add the two lists together to have a full name\n",
        "  full_name= [fname_list+ lname_list for fname_list, lname_list in zip (fname_list, lname_list)]\n",
        "  return full_name\n",
        "\n",
        "  "
      ],
      "execution_count": null,
      "outputs": []
    },
    {
      "cell_type": "code",
      "metadata": {
        "id": "9K249SwHe-5C"
      },
      "source": [
        "#Pandas dataframe function\n",
        "def data_frame(full_name, total_height):\n",
        "  #Convert full name list into pandas dataframe \n",
        "  name_df= pd.DataFrame(full_name)\n",
        "  name_df= name_df.rename(columns={0: \"Names\"}) #rename column 0 into Names\n",
        "  #Convert the total height into pandas dataframe\n",
        "  height_df= pd.DataFrame(total_height)\n",
        "  height_df= height_df.rename(columns={0: \"Heights\"}) #rename column 0 into Heights\n",
        "\n",
        "  #Add the two dataframes together vertically \n",
        "  combined_df= pd.concat([name_df,height_df], axis=1)\n",
        "  return combined_df.set_index('Names')\n",
        "\n",
        "\n"
      ],
      "execution_count": null,
      "outputs": []
    },
    {
      "cell_type": "code",
      "metadata": {
        "id": "IRFjD5JrwFGn"
      },
      "source": [
        "#Dataframe to merge the 3 schools dataframe into one\n",
        "def concat_df(urls):\n",
        "  #Use list comprehension to run each url in the websites list through the functions above\n",
        "  combined_df = [data_frame(name(url), height(url)) for url in urls]\n",
        "  #Merge all 3 dataframes into one\n",
        "  total_df= pd.concat(combined_df)\n",
        "  #Delete the rows in the dataframe with NaN values because they have no height indicating they're coaches\n",
        "  #We only want players\n",
        "  total_df= total_df.dropna()\n",
        "  print(total_df)\n",
        "  #Print out average\n",
        "  print(total_df.mean())\n",
        "  return total_df"
      ],
      "execution_count": null,
      "outputs": []
    },
    {
      "cell_type": "code",
      "metadata": {
        "id": "oZKgFMPq6yRO",
        "colab": {
          "base_uri": "https://localhost:8080/"
        },
        "outputId": "701deb28-ec72-4702-ecb1-10bd037be3c9"
      },
      "source": [
        "MenVolley_df= concat_df(MenVolleyball_url)"
      ],
      "execution_count": null,
      "outputs": [
        {
          "output_type": "stream",
          "text": [
            "                      Heights\n",
            "Names                        \n",
            "Snigdho Hasan          165.10\n",
            "Michael Valentin       175.26\n",
            "Andres Vargas          182.88\n",
            "Jasper Diangco         177.80\n",
            "Sayuj Zachariah        187.96\n",
            "Omar Rezika            187.96\n",
            "Gabriel Pjatak         190.50\n",
            "Ryan Chabel            180.34\n",
            "Utku Tanritanir        182.88\n",
            "QiQin Zeng             175.26\n",
            "Andrew Tsororos        193.04\n",
            "Steven Lopez           182.88\n",
            "Sonam Dorjee           177.80\n",
            "Edward Grinberg        187.96\n",
            "David Sirchenko        190.50\n",
            "Stallone Shankar       182.88\n",
            "Rabsang Andrugtsang    177.80\n",
            "Hanbin Lee             175.26\n",
            "Artem Zinkin           195.58\n",
            "Michael Higgins        193.04\n",
            "Carlos Rodriguez       193.04\n",
            "Leon Petrovitsky       195.58\n",
            "Defeng Han             185.42\n",
            "Evan Takos             190.50\n",
            "Meni Musheyev          190.50\n",
            "Justin Iloulian        187.96\n",
            "John Vitor             167.64\n",
            "Juan Rodriguez         167.64\n",
            "Shawn Nemoto           170.18\n",
            "Erick Ortega           172.72\n",
            "Akil Vaughn            195.58\n",
            "Justin Saji            177.80\n",
            "Jayden Deokinanan      162.56\n",
            "Mambe Koureissi        193.04\n",
            "Anthony Nazario, Jr.   175.26\n",
            "Olawale Kila           193.04\n",
            "David Heyliger, Jr.    185.42\n",
            "Guillermo Hernandez    193.04\n",
            "Fatmir Glavatovic      182.88\n",
            " Ti’Juan Boothe        172.72\n",
            "Heights    182.88\n",
            "dtype: float64\n"
          ],
          "name": "stdout"
        }
      ]
    },
    {
      "cell_type": "code",
      "metadata": {
        "id": "Qmv0r5P5QURP",
        "colab": {
          "base_uri": "https://localhost:8080/"
        },
        "outputId": "a671d5d8-4023-4228-ce7d-d06386e38a91"
      },
      "source": [
        "MenSwimming_df= concat_df(MenSwimming_url)"
      ],
      "execution_count": null,
      "outputs": [
        {
          "output_type": "stream",
          "text": [
            "                      Heights\n",
            "Names                        \n",
            "Ronaldo Barrios        187.96\n",
            "Devin Boodha           175.26\n",
            "Nikita Cary            172.72\n",
            "Alec Chi               177.80\n",
            "Peter Ebert            187.96\n",
            "Andwele Estwick        180.34\n",
            "Omar Hasan- Hafez      185.42\n",
            "Christian Hoyek        182.88\n",
            "Konstantin Lomeyko     172.72\n",
            "Mark MacEachen         193.04\n",
            "James Rupa             177.80\n",
            "Akmalijon Salimov      175.26\n",
            "Gregory Becker         195.58\n",
            "Nicholas Blanco        177.80\n",
            "Kevin Chen             175.26\n",
            "Gary Danilyan          187.96\n",
            "Kasper Gacek           195.58\n",
            "David Gazaryan         177.80\n",
            "Matthew Greenfield     172.72\n",
            "Julio Hernandez        172.72\n",
            "Jonathan Jaramillo     177.80\n",
            "Erik Kantar            175.26\n",
            "Fernando Marroquin     170.18\n",
            "David Matskovsky       187.96\n",
            "Eddy Min               182.88\n",
            "Eli Mogorichev         182.88\n",
            "Jose Munoz Aycart      180.34\n",
            "Evan Nikolic           190.50\n",
            "Dayan Ordabayev        177.80\n",
            "Luca Rivitti           177.80\n",
            "Ben Sionov             165.10\n",
            "Julian Tineo           185.42\n",
            "Peter Tzotchev         175.26\n",
            "Joseph Vasile          170.18\n",
            "Morgan Welling         190.50\n",
            " Ti’Juan Boothe        172.72\n",
            "Jaquan Eleazard        175.26\n",
            "Arafath Hussain        172.72\n",
            "Anthony Jordan         170.18\n",
            "Antonio Josephs        187.96\n",
            "Christopher Mendez     170.18\n",
            "Anthony Nazario, Jr.   175.26\n",
            "Jeremy Sapeg           175.26\n",
            "Jamaar Watson          185.42\n",
            "Alex Winter            182.88\n",
            "Heights    179.606222\n",
            "dtype: float64\n"
          ],
          "name": "stdout"
        }
      ]
    },
    {
      "cell_type": "code",
      "metadata": {
        "id": "AxeJvBICQWfR",
        "colab": {
          "base_uri": "https://localhost:8080/"
        },
        "outputId": "ca185187-7556-4c8f-9406-9c4bcac9c732"
      },
      "source": [
        "WomenVolley_df= concat_df(WomenVolleyball_url)"
      ],
      "execution_count": null,
      "outputs": [
        {
          "output_type": "stream",
          "text": [
            "                          Heights\n",
            "Names                            \n",
            "Inesa Shimcani             165.10\n",
            "Ashley Fung                170.18\n",
            "Rain Zhang                 167.64\n",
            "Yana Shaposhnikova         160.02\n",
            "Ezri Shor                  165.10\n",
            "Madison Cronk              180.34\n",
            "Laurie Lee                 157.48\n",
            "Nohelia Cedeno             172.72\n",
            "Alejandra Chen             170.18\n",
            "Savanna Koutsakis-Keener   154.94\n",
            "Alanis Guinada             162.56\n",
            "Megan Ortiz-Mengedoht      177.80\n",
            "Kate Meltsin               162.56\n",
            "Yijia Cai                  177.80\n",
            "Jasmin Vidal Ventura       157.48\n",
            "Stella Chung               167.64\n",
            "Claudia Daporta            182.88\n",
            "Anita Sengara              180.34\n",
            "Young Gi Go                152.40\n",
            "Wai Chang                  162.56\n",
            "Anesa Feratovic            167.64\n",
            "Claudia Moi                165.10\n",
            "Sanaa Hadjeb               170.18\n",
            "Cindy Cui                  162.56\n",
            "Cady Xia                   154.94\n",
            "Ada Cao                    167.64\n",
            "Katherine Chen             170.18\n",
            "Stephany Chhay             157.48\n",
            "Niovis Monsanto            177.80\n",
            "Sonam Nematullah           157.48\n",
            "Haley Potvin-Sanjurjo      167.64\n",
            "Mirialis Almanzar          182.88\n",
            "Jamarie Silverio           170.18\n",
            "Freysha Rivera             167.64\n",
            "Autumn Reeves              187.96\n",
            "Sophia Wheelan             182.88\n",
            "Karen Sumlang              172.72\n",
            "Kimberly Rodriguez         170.18\n",
            "Heights    168.442105\n",
            "dtype: float64\n"
          ],
          "name": "stdout"
        }
      ]
    },
    {
      "cell_type": "code",
      "metadata": {
        "id": "CBsv5Gw1QYsd",
        "colab": {
          "base_uri": "https://localhost:8080/"
        },
        "outputId": "ec7cff38-5503-43a9-9f03-b1a442b8cfb5"
      },
      "source": [
        "WomenSwimming_df= concat_df(WomenSwimming_url)"
      ],
      "execution_count": null,
      "outputs": [
        {
          "output_type": "stream",
          "text": [
            "                      Heights\n",
            "Names                        \n",
            "Semona Bardman         167.64\n",
            "Angella Christopher    170.18\n",
            "Anna Curran            160.02\n",
            "Rachel Davidovich      162.56\n",
            "Shenaika Eliassaint    180.34\n",
            "Julie Huang            154.94\n",
            "Natalia Mrzyglod       165.10\n",
            "Stella Ryklis          167.64\n",
            "Alyssa Taylor          175.26\n",
            "Emily Yang             157.48\n",
            "Stephanie Antonova     154.94\n",
            "Nicole Astudillo       157.48\n",
            "Andrea Gasic           175.26\n",
            "Onika George           177.80\n",
            "Karina Gotz            170.18\n",
            "Asimina Hamakiotes     175.26\n",
            "Mirtho-Myra Lamonier   154.94\n",
            "Amanda Lee             152.40\n",
            "Iris Leung             160.02\n",
            "Debbie Li              160.02\n",
            "Megan Liew             162.56\n",
            "Ashley Louke           162.56\n",
            "Nicole Ousmanova       167.64\n",
            "Leslibeth Romero       170.18\n",
            "Alicia Soares          154.94\n",
            "Nicole Tarasiuk        170.18\n",
            "Gloria Wu              160.02\n",
            "Gabriela Almeida       160.02\n",
            "Marin Azhar            154.94\n",
            "Alyssa Budzynski       172.72\n",
            "Brigitti Cruz          167.64\n",
            "Danielle D'Angelo      167.64\n",
            "Megan Dawes            172.72\n",
            "Sekyi Dolma            160.02\n",
            "Chelsy Espinosa        165.10\n",
            "Amanda Giordano        165.10\n",
            "Naomi Oken             162.56\n",
            "Allie Stanya           170.18\n",
            "Gabriella Vicidomini   162.56\n",
            "Lily Wilk              160.02\n",
            "Heights    164.719\n",
            "dtype: float64\n"
          ],
          "name": "stdout"
        }
      ]
    },
    {
      "cell_type": "code",
      "metadata": {
        "id": "7GksxVuaCUmc",
        "colab": {
          "base_uri": "https://localhost:8080/"
        },
        "outputId": "329ba105-06c0-43a9-c45a-c5065e374d0c"
      },
      "source": [
        "#List of all four dataframes\n",
        "df_list= [MenVolley_df, MenSwimming_df, WomenVolley_df, WomenSwimming_df]\n",
        "#List of all headers for each dataframe\n",
        "headers= [\"Top 5 Shortest Men Volleyball Players\",\"Top 5 Tallest Men Volleyball Players\", \"Top 5 Shortest Men Swimmers\",\"Top 5 Tallest Men Swimmers\", \"Top 5 Shortest Women Volleyball Players\",\"Top 5 Tallest Women Volleyball Players\", \"Top 5 Shortest Women Swimmers\", \"Top 5 Tallest Women Swimmers\"]\n",
        "count=0\n",
        "#For each dataframe, we want to sort it by height, ascending order.\n",
        "for df in df_list:\n",
        "  df.sort_values(by = \"Heights\", inplace= True)\n",
        "  #Iterate through each header using count variable \n",
        "  print(headers[count],'\\n')\n",
        "  #returns a dataframe of top shortest (top 5 in dataframe) players\n",
        "  print(df.head(), '\\n') \n",
        "  count+=1 \n",
        "  print(headers[count], '\\n')\n",
        "  #returns a dataframe of top tallest players (bottom 5 in dataframe )\n",
        "  print(df.tail(), '\\n')\n",
        "  count+=1\n",
        "  \n",
        " "
      ],
      "execution_count": null,
      "outputs": [
        {
          "output_type": "stream",
          "text": [
            "Top 5 Shortest Men Volleyball Players \n",
            "\n",
            "                   Heights\n",
            "Names                     \n",
            "Jayden Deokinanan   162.56\n",
            "Snigdho Hasan       165.10\n",
            "Juan Rodriguez      167.64\n",
            "John Vitor          167.64\n",
            "Shawn Nemoto        170.18 \n",
            "\n",
            "Top 5 Tallest Men Volleyball Players \n",
            "\n",
            "                     Heights\n",
            "Names                       \n",
            "Guillermo Hernandez   193.04\n",
            "Michael Higgins       193.04\n",
            "Leon Petrovitsky      195.58\n",
            "Akil Vaughn           195.58\n",
            "Artem Zinkin          195.58 \n",
            "\n",
            "Top 5 Shortest Men Swimmers \n",
            "\n",
            "                    Heights\n",
            "Names                      \n",
            "Ben Sionov           165.10\n",
            "Fernando Marroquin   170.18\n",
            "Joseph Vasile        170.18\n",
            "Christopher Mendez   170.18\n",
            "Anthony Jordan       170.18 \n",
            "\n",
            "Top 5 Tallest Men Swimmers \n",
            "\n",
            "                Heights\n",
            "Names                  \n",
            "Morgan Welling   190.50\n",
            "Evan Nikolic     190.50\n",
            "Mark MacEachen   193.04\n",
            "Kasper Gacek     195.58\n",
            "Gregory Becker   195.58 \n",
            "\n",
            "Top 5 Shortest Women Volleyball Players \n",
            "\n",
            "                          Heights\n",
            "Names                            \n",
            "Young Gi Go                152.40\n",
            "Cady Xia                   154.94\n",
            "Savanna Koutsakis-Keener   154.94\n",
            "Sonam Nematullah           157.48\n",
            "Stephany Chhay             157.48 \n",
            "\n",
            "Top 5 Tallest Women Volleyball Players \n",
            "\n",
            "                   Heights\n",
            "Names                     \n",
            "Madison Cronk       180.34\n",
            "Mirialis Almanzar   182.88\n",
            "Claudia Daporta     182.88\n",
            "Sophia Wheelan      182.88\n",
            "Autumn Reeves       187.96 \n",
            "\n",
            "Top 5 Shortest Women Swimmers \n",
            "\n",
            "                    Heights\n",
            "Names                      \n",
            "Amanda Lee           152.40\n",
            "Marin Azhar          154.94\n",
            "Julie Huang          154.94\n",
            "Alicia Soares        154.94\n",
            "Stephanie Antonova   154.94 \n",
            "\n",
            "Top 5 Tallest Women Swimmers \n",
            "\n",
            "                     Heights\n",
            "Names                       \n",
            "Alyssa Taylor         175.26\n",
            "Andrea Gasic          175.26\n",
            "Asimina Hamakiotes    175.26\n",
            "Onika George          177.80\n",
            "Shenaika Eliassaint   180.34 \n",
            "\n"
          ],
          "name": "stdout"
        }
      ]
    }
  ]
}